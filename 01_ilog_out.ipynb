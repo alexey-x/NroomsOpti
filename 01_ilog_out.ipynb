{
 "cells": [
  {
   "cell_type": "markdown",
   "metadata": {},
   "source": [
    "# Plots Solution from ILOG\n",
    "\n",
    "See ilog_sol_size.mod"
   ]
  },
  {
   "cell_type": "code",
   "execution_count": 1,
   "metadata": {},
   "outputs": [],
   "source": [
    "import numpy as np\n",
    "import pandas as pd\n",
    "\n",
    "import matplotlib.pylab as plt\n",
    "import matplotlib.patches as mpatches\n",
    "from matplotlib.collections import PatchCollection\n",
    "\n",
    "#plt.style.use('bmh')"
   ]
  },
  {
   "cell_type": "code",
   "execution_count": 2,
   "metadata": {},
   "outputs": [],
   "source": [
    "def get_main_room():\n",
    "    main_room = pd.read_excel(\"data/main_room.xlsx\", header=None, index_col=0)\n",
    "    length, width = main_room.loc[\"length\", 1], main_room.loc[\"width\", 1]\n",
    "\n",
    "    return length, width"
   ]
  },
  {
   "cell_type": "code",
   "execution_count": 3,
   "metadata": {},
   "outputs": [],
   "source": [
    "len_max, wid_max = get_main_room()"
   ]
  },
  {
   "cell_type": "code",
   "execution_count": 19,
   "metadata": {},
   "outputs": [],
   "source": [
    "def get_rooms():\n",
    "    patches = []\n",
    "    labels = []\n",
    "    rooms = pd.read_excel(\"data/sol_lin_sizes.xlsx\")\n",
    "    for line in rooms.itertuples():\n",
    "        patches.append(mpatches.Rectangle([line.x, line.y], line.dx, line.dy))\n",
    "        labels.append((line.x + line.dx/2, line.y + line.dy/4, str(line.room)))\n",
    "    return patches, labels"
   ]
  },
  {
   "cell_type": "code",
   "execution_count": 20,
   "metadata": {},
   "outputs": [],
   "source": [
    "rooms, labels = get_rooms()"
   ]
  },
  {
   "cell_type": "code",
   "execution_count": 21,
   "metadata": {},
   "outputs": [],
   "source": [
    "colors = np.linspace(0, 1, len(rooms))"
   ]
  },
  {
   "cell_type": "code",
   "execution_count": 22,
   "metadata": {},
   "outputs": [
    {
     "data": {
      "image/png": "[encoded data removed]",
      "text/plain": [
       "<Figure size 648x360 with 1 Axes>"
      ]
     },
     "metadata": {
      "needs_background": "light"
     },
     "output_type": "display_data"
    }
   ],
   "source": [
    "fig, ax = plt.subplots(1, 1, figsize=(9, 5))\n",
    "collection = PatchCollection(rooms, cmap=plt.cm.hsv, alpha=0.3)\n",
    "collection.set_array(colors)\n",
    "ax.add_collection(collection)\n",
    "for x, y, txt in labels:\n",
    "    plt.text(x, y, txt, ha=\"center\", family='sans-serif', size=22)\n",
    "\n",
    "plt.plot([0, len_max], [0, wid_max], lw=0) # junk line to make the proper image size for patches otherwise it is (1, 1)\n",
    "plt.tick_params(axis='both', which='major', labelsize=20)\n",
    "plt.grid()\n",
    "plt.show()"
   ]
  },
  {
   "cell_type": "code",
   "execution_count": null,
   "metadata": {},
   "outputs": [],
   "source": []
  }
 ],
 "metadata": {
  "kernelspec": {
   "display_name": "Python 3",
   "language": "python",
   "name": "python3"
  },
  "language_info": {
   "codemirror_mode": {
    "name": "ipython",
    "version": 3
   },
   "file_extension": ".py",
   "mimetype": "text/x-python",
   "name": "python",
   "nbconvert_exporter": "python",
   "pygments_lexer": "ipython3",
   "version": "3.7.1"
  }
 },
 "nbformat": 4,
 "nbformat_minor": 2
}
