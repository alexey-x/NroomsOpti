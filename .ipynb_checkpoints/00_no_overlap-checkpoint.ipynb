{
 "cells": [
  {
   "cell_type": "markdown",
   "metadata": {},
   "source": [
    "# Notes"
   ]
  },
  {
   "cell_type": "markdown",
   "metadata": {},
   "source": [
    "## How to derive no intersection condition\n",
    "\n",
    "1. Formulate 1-D condition for no intersection\n",
    "2. Formulate 2-D condition for no intersection"
   ]
  },
  {
   "cell_type": "markdown",
   "metadata": {},
   "source": [
    "### Geometric description for 1-D case of non intersecting intervals\n",
    "\n",
    "$x, \\delta x, y, \\delta y$\n",
    "\n",
    "There are two cases\n",
    "\n",
    "1)\n",
    "$\n",
    "x + \\delta x \\le y\n",
    "$\n",
    "\n",
    "2)\n",
    "$\n",
    "y +\\delta y \\le x\n",
    "$"
   ]
  },
  {
   "cell_type": "markdown",
   "metadata": {},
   "source": [
    "![Four cases](img/1d_case.png)"
   ]
  },
  {
   "cell_type": "markdown",
   "metadata": {},
   "source": [
    "These two cases may be written in LP terms  as\n",
    "$$\n",
    "\\begin{cases}\n",
    "x + \\delta x - y \\le L (1-b_1) \\\\\n",
    "y + \\delta y - x \\le L (1-b_2) \\\\\n",
    "b_1 + b_2 = 1\n",
    "\\end{cases}\n",
    "$$\n",
    "where $L$ - is the length of the whole interval, $b_1, b_2$ - binary variables saying that only one case occurs. \n",
    "\n",
    "Notice that $b_1, b_2$  may be written as\n",
    "$$\n",
    "\\begin{pmatrix} 0 & b_{12} \\\\ b_{21} & 0 \\end{pmatrix}\n",
    "$$\n",
    "\n",
    "Thus the condtions for $N$ of no intersecting intervals are\n",
    "\n",
    "$\\forall i, j: i \\ne j$\n",
    "$$\n",
    "\\begin{cases}\n",
    "x_i + \\delta x_i - x_j \\le L (1-b_{ij}) \\\\\n",
    "x_j + \\delta x_j - x_i \\le L (1-b_{ji}) \\\\\n",
    "b_{ij} + b_{ji} = 1\n",
    "\\end{cases}\n",
    "$$"
   ]
  },
  {
   "cell_type": "markdown",
   "metadata": {},
   "source": [
    "### 2D case. LP description\n",
    "\n",
    "Let $L$ - max size along x axis. $W$ - max size along y axis.\n",
    "\n",
    "There are four cases of no intersecting rectangulars (see figure below)."
   ]
  },
  {
   "cell_type": "markdown",
   "metadata": {},
   "source": [
    "![Four cases](img/intersection_ij.png)"
   ]
  },
  {
   "cell_type": "markdown",
   "metadata": {},
   "source": [
    "Only one case may occur. Therefore\n",
    "$\n",
    "bx_{1} + bx_{2} + by_{3} + by_{4} = 1\n",
    "$\n",
    "\n",
    "The condtions for $N$ of no intersecting rectangulars are:\n",
    "\n",
    "$\\forall i, j: i \\ne j$\n",
    "\n",
    "$$\n",
    "\\begin{cases}\n",
    "x_i + \\delta x_i - x_j \\le L (1 - bx_{ij})\\\\\n",
    "x_j + \\delta x_j - x_i \\le L (1 - bx_{ji})\\\\\n",
    "y_i + \\delta y_i - y_j \\le W (1 - by_{ij})\\\\\n",
    "y_j + \\delta y_j - y_i \\le W (1 - by_{ji})\\\\\n",
    "bx_{ij} + bx_{ji} + by_{ij} + by_{ji} = 1,\n",
    "\\end{cases}\n",
    "$$\n",
    "where $bx_{ij}, by_{ij}$ two matricies of the size $N\\times N$."
   ]
  },
  {
   "cell_type": "code",
   "execution_count": null,
   "metadata": {},
   "outputs": [],
   "source": []
  }
 ],
 "metadata": {
  "kernelspec": {
   "display_name": "Python 3",
   "language": "python",
   "name": "python3"
  },
  "language_info": {
   "codemirror_mode": {
    "name": "ipython",
    "version": 3
   },
   "file_extension": ".py",
   "mimetype": "text/x-python",
   "name": "python",
   "nbconvert_exporter": "python",
   "pygments_lexer": "ipython3",
   "version": "3.7.1"
  }
 },
 "nbformat": 4,
 "nbformat_minor": 2
}
